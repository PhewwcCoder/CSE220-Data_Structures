{
 "cells": [
  {
   "cell_type": "code",
   "execution_count": 1,
   "id": "ce5a1ee2",
   "metadata": {},
   "outputs": [],
   "source": [
    "import numpy as np"
   ]
  },
  {
   "cell_type": "code",
   "execution_count": 2,
   "id": "484151e1",
   "metadata": {},
   "outputs": [
    {
     "name": "stdout",
     "output_type": "stream",
     "text": [
      "[15  0  0  0  0  0  0  0  0  0]\n",
      "[100  15   0   0   0   0   0   0   0   0]\n",
      "[100  15  50   0   0   0   0   0   0   0]\n",
      "[100  30  50  15   0   0   0   0   0   0]\n",
      "[50 30 15 15  0  0  0  0  0  0]\n",
      "[50 35 15 30  0  0  0  0  0  0]\n",
      "[15 30 35 50  0  0  0  0  0  0]\n"
     ]
    }
   ],
   "source": [
    "class MaxHeap:\n",
    "\n",
    "    def __init__(self, capacity):\n",
    "        self.heap = np.zeros(capacity, dtype='int')\n",
    "        self.size = 0\n",
    "        \n",
    "    def insert(self, elem):\n",
    "        if self.size == len(self.heap):\n",
    "            print(\"হায়রে গরিব জায়গা নাই\")\n",
    "        else:\n",
    "            self.heap[self.size] = elem\n",
    "            self.swim(self.size)\n",
    "            self.size += 1\n",
    "\n",
    "    def swim(self, i):\n",
    "        if i>0:\n",
    "            parent = (i-1)//2\n",
    "            if self.heap[i] > self.heap[parent]:\n",
    "                self.heap[i],self.heap[parent] = self.heap[parent],self.heap[i]\n",
    "                self.swim(parent)\n",
    "\n",
    "    def extract(self):\n",
    "        if self.size == 0:\n",
    "            return\n",
    "        max_val = self.heap[0]\n",
    "        self.heap[0] = self.heap[self.size-1]\n",
    "        self.sink(0)\n",
    "        self.size -= 1\n",
    "        return max_val\n",
    "    \n",
    "    def sink(self, i):\n",
    "        if (i*2)+1 >= self.size:\n",
    "            return\n",
    "        left_child = 2*i +1\n",
    "        right_child = 2*i +2\n",
    "        replace_child = 0\n",
    "        if right_child >= self.size:\n",
    "            replace_child = left_child\n",
    "        elif self.heap[left_child] >= self.heap[right_child]:\n",
    "            replace_child = left_child\n",
    "        else:\n",
    "            replace_child = right_child\n",
    "        if self.heap[i] < self.heap[replace_child]:\n",
    "            self.heap[i],self.heap[replace_child] = self.heap[replace_child],self.heap[i]\n",
    "            self.sink(replace_child)\n",
    "\n",
    "    def ascending_sort(self):\n",
    "        temp = self.size\n",
    "        for i in range(temp):\n",
    "            self.heap[self.size] = self.extract()\n",
    "        self.size = temp\n",
    "        return self.heap\n",
    "\n",
    "    def __str__(self):\n",
    "        return f\"{self.heap}\"\n",
    "\n",
    "heap = MaxHeap(10)\n",
    "heap.insert(15)\n",
    "print(heap)\n",
    "heap.insert(100)\n",
    "print(heap)\n",
    "heap.insert(50)\n",
    "print(heap)\n",
    "heap.insert(30)\n",
    "print(heap)\n",
    "heap.extract()\n",
    "print(heap)\n",
    "heap.insert(35)\n",
    "print(heap)\n",
    "heap.ascending_sort()\n",
    "print(heap)\n",
    "\n",
    "\n"
   ]
  },
  {
   "cell_type": "code",
   "execution_count": 3,
   "id": "6beebd14",
   "metadata": {},
   "outputs": [
    {
     "name": "stdout",
     "output_type": "stream",
     "text": [
      "[15  0  0  0  0  0  0  0  0  0]\n",
      "[ 15 100   0   0   0   0   0   0   0   0]\n",
      "[ 15 100  50   0   0   0   0   0   0   0]\n",
      "[ 15  30  50 100   0   0   0   0   0   0]\n",
      "[ 30 100  50 100   0   0   0   0   0   0]\n",
      "[ 30  35  50 100   0   0   0   0   0   0]\n",
      "[100  50  35  30   0   0   0   0   0   0]\n"
     ]
    }
   ],
   "source": [
    "class MinHeap:\n",
    "\n",
    "    def __init__(self, capacity):\n",
    "        self.heap = np.zeros(capacity, dtype = int)\n",
    "        self.size = 0\n",
    "\n",
    "    def insert(self, elem):\n",
    "        if self.size == len(self.heap):\n",
    "            print(\"nigga just ran out of space\")\n",
    "        else:\n",
    "            self.heap[self.size] = elem\n",
    "            self.swim(self.size)\n",
    "            self.size +=1\n",
    "            \n",
    "    def swim(self, i):\n",
    "        if i>0:\n",
    "            parent = (i-1)//2\n",
    "            if self.heap[i] < self.heap[parent]:\n",
    "                self.heap[i],self.heap[parent] = self.heap[parent],self.heap[i]\n",
    "                self.swim(parent)\n",
    "        \n",
    "    def extract(self):\n",
    "        if self.size == 0:\n",
    "            return\n",
    "        min_val = self.heap[0]\n",
    "        self.heap[0] = self.heap[self.size-1]\n",
    "        self.sink(0)\n",
    "        self.size -= 1\n",
    "        return min_val\n",
    "    \n",
    "    def sink(self, i):\n",
    "        if (i*2)+1 >= self.size:\n",
    "            return\n",
    "        lc = 2*i + 1\n",
    "        rc = 2*i + 2\n",
    "        replace_index = 0\n",
    "        if rc >= self.size:\n",
    "            replace_index = lc\n",
    "        elif self.heap[lc] < self.heap[rc]:\n",
    "            replace_index = lc\n",
    "        else:\n",
    "            replace_index = rc\n",
    "        if self.heap[i] > self.heap[replace_index]:\n",
    "            self.heap[i],self.heap[replace_index] = self.heap[replace_index],self.heap[i]\n",
    "            self.sink(replace_index)\n",
    "\n",
    "    def descending_sort(self):\n",
    "        temp = self.size\n",
    "        for i in range(temp):\n",
    "            self.heap[self.size] = self.extract()\n",
    "        self.size = temp\n",
    "\n",
    "\n",
    "    def __str__(self):\n",
    "        return f\"{self.heap}\"\n",
    "\n",
    "heap = MinHeap(10)\n",
    "heap.insert(15)\n",
    "print(heap)\n",
    "heap.insert(100)\n",
    "print(heap)\n",
    "heap.insert(50)\n",
    "print(heap)\n",
    "heap.insert(30)\n",
    "print(heap)\n",
    "heap.extract()\n",
    "print(heap)\n",
    "heap.insert(35)\n",
    "print(heap)\n",
    "heap.descending_sort()\n",
    "print(heap)\n",
    "        \n",
    "        \n",
    "\n",
    "            "
   ]
  },
  {
   "cell_type": "markdown",
   "id": "a4844b20",
   "metadata": {},
   "source": [
    "<span style=\"font-family:Consolas,monospace\">\n",
    "Minimum sum of two numbers formed from digits of an array\n",
    "\n",
    "Given an array of digits (values are from 0 to 9), find the minimum possible sum of two numbers formed from digits of the array. All digits of given array must be used to form the two numbers.</span>\n",
    "\n",
    "Examples: \n",
    "\n",
    "<span style=\"color:#B2EBF2; font-family:Consolas,monospace; font-style:italic\">\n",
    "**Input**: arr[] = [6, 8, 4, 5, 2, 3]\n",
    "\n",
    "Output: 604\n",
    "\n",
    "Explanation: The minimum sum is formed by numbers 358 and 246\n",
    "\n",
    "**Input**: arr[] = [5, 3, 0, 7, 4]\n",
    "\n",
    "Output: 82\n",
    "\n",
    "Explanation: The minimum sum is formed by numbers 35 and 047 </span>\n",
    "\n"
   ]
  },
  {
   "cell_type": "code",
   "execution_count": 4,
   "id": "b8fa39b0",
   "metadata": {},
   "outputs": [
    {
     "name": "stdout",
     "output_type": "stream",
     "text": [
      "604\n",
      "82\n"
     ]
    }
   ],
   "source": [
    "def min_sum(arr):\n",
    "    heap = MaxHeap(len(arr))\n",
    "    for i in arr:\n",
    "        heap.insert(i)\n",
    "    heap.ascending_sort()\n",
    "    num1 = \"\"\n",
    "    num2 = \"\"\n",
    "    for i in range(len(arr)):\n",
    "        if i%2 == 0:\n",
    "            num1+=str(heap.heap[i])\n",
    "        else:\n",
    "            num2+=str(heap.heap[i])\n",
    "    return int(num1)+int(num2)\n",
    "\n",
    "print(min_sum([6,8,4,5,2,3]))\n",
    "print(min_sum([5,3,0,7,4]))"
   ]
  },
  {
   "cell_type": "markdown",
   "id": "9ea4d246",
   "metadata": {},
   "source": [
    "Given an array arr[] of N distinct elements and a number K, where K is smaller than the size of the array. Find the K’th smallest element in the given array.\n",
    "\n",
    "Examples:\n",
    "\n",
    "Input: arr[] = [7, 10, 4, 3, 20, 15], K = 3 \n",
    "\n",
    "Output: 7\n",
    "\n",
    "\n",
    "Input: arr[] = [7, 10, 4, 3, 20, 15], K = 4 \n",
    "\n",
    "Output: 10 "
   ]
  },
  {
   "cell_type": "code",
   "execution_count": 5,
   "id": "f103019f",
   "metadata": {},
   "outputs": [
    {
     "name": "stdout",
     "output_type": "stream",
     "text": [
      "7\n"
     ]
    }
   ],
   "source": [
    "def kth_smallest_element(arr,k):\n",
    "    maxheap = MaxHeap(len(arr))\n",
    "    for i in arr:\n",
    "        maxheap.insert(i)\n",
    "    maxheap.ascending_sort()\n",
    "    return maxheap.heap[k-1]\n",
    "print(kth_smallest_element([7, 10, 4, 3, 20, 15],3))"
   ]
  },
  {
   "attachments": {
    "image.png": {
     "image/png": "[encoded data removed]"
    }
   },
   "cell_type": "markdown",
   "id": "76775da9",
   "metadata": {},
   "source": [
    "![image.png](attachment:image.png)"
   ]
  },
  {
   "cell_type": "code",
   "execution_count": 10,
   "id": "63b1be90",
   "metadata": {},
   "outputs": [
    {
     "name": "stdout",
     "output_type": "stream",
     "text": [
      "5\n"
     ]
    }
   ],
   "source": [
    "def minimum_operations_find(initial_heap):\n",
    "    # Create a min-heap from the initial array\n",
    "    heap = MinHeap(len(initial_heap))\n",
    "    for num in initial_heap:\n",
    "        if num > 0:  # Only insert non-zero values\n",
    "            heap.insert(num)\n",
    "    \n",
    "    operations = 0\n",
    "    \n",
    "    while not heap.size == 0:\n",
    "        # Extract the minimum non-zero value\n",
    "        x = heap.extract()\n",
    "        if x is None or x == 0:\n",
    "            break\n",
    "        \n",
    "        operations += 1\n",
    "        \n",
    "        # Temporary array to store modified values\n",
    "        temp = []\n",
    "        remaining_size = heap.size\n",
    "        \n",
    "        # Process all remaining elements in the heap\n",
    "        for _ in range(remaining_size):\n",
    "            val = heap.extract()\n",
    "            if val > 0:\n",
    "                new_val = val // x\n",
    "                if new_val > 0:\n",
    "                    temp.append(new_val)\n",
    "        \n",
    "        # Rebuild the heap with the modified values\n",
    "        for val in temp:\n",
    "            heap.insert(val)\n",
    "    \n",
    "    return operations\n",
    "heap = [2, 3, 5, 20, 100]\n",
    "print(minimum_operations_find(heap))\n",
    "\n",
    "\n",
    "            \n",
    "\n"
   ]
  }
 ],
 "metadata": {
  "kernelspec": {
   "display_name": "Python 3",
   "language": "python",
   "name": "python3"
  },
  "language_info": {
   "codemirror_mode": {
    "name": "ipython",
    "version": 3
   },
   "file_extension": ".py",
   "mimetype": "text/x-python",
   "name": "python",
   "nbconvert_exporter": "python",
   "pygments_lexer": "ipython3",
   "version": "3.12.3"
  }
 },
 "nbformat": 4,
 "nbformat_minor": 5
}
