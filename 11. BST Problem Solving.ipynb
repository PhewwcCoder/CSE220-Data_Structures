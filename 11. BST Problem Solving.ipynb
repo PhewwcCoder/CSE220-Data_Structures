{
 "cells": [
  {
   "cell_type": "code",
   "execution_count": 8,
   "metadata": {
    "id": "D6vC520OPeTa"
   },
   "outputs": [],
   "source": [
    " class BTNode:\n",
    "  def __init__(self, elem):\n",
    "    self.elem = elem\n",
    "    self.right = None\n",
    "    self.left = None\n",
    "    \n",
    "  @classmethod\n",
    "  def tree_construction(self, arr, i = 1):\n",
    "    if i>=len(arr) or arr[i] == None:\n",
    "      return None\n",
    "    p = BTNode(arr[i])\n",
    "    p.left = self.tree_construction(arr, 2*i)\n",
    "    p.right = self.tree_construction(arr, 2*i+1)\n",
    "    return p"
   ]
  },
  {
   "cell_type": "code",
   "execution_count": 9,
   "metadata": {
    "id": "UDTKlm4-PfNM"
   },
   "outputs": [],
   "source": [
    "def inorder(root):\n",
    "  if root == None:\n",
    "    return\n",
    "\n",
    "  inorder(root.left)\n",
    "  print(root.elem, end = ' ')\n",
    "  inorder(root.right)"
   ]
  },
  {
   "cell_type": "code",
   "execution_count": 10,
   "metadata": {
    "id": "Rtc22SPzPgzM"
   },
   "outputs": [
    {
     "name": "stdout",
     "output_type": "stream",
     "text": [
      "H D B E A I F J C G k "
     ]
    }
   ],
   "source": [
    "root2 = BTNode.tree_construction([None, 'A', 'B', 'C', 'D', 'E', 'F', 'G', 'H', None, None, None, 'I', 'J', None, 'k'])\n",
    "inorder(root2)"
   ]
  },
  {
   "cell_type": "markdown",
   "metadata": {
    "id": "S2nNCJNhPqGq"
   },
   "source": [
    "Task 1"
   ]
  },
  {
   "cell_type": "code",
   "execution_count": 11,
   "metadata": {
    "id": "zbBHU3FoPieb"
   },
   "outputs": [
    {
     "name": "stdout",
     "output_type": "stream",
     "text": [
      "10\n",
      "15\n",
      "20\n",
      "25\n",
      "10\n"
     ]
    }
   ],
   "source": [
    "def LCA(root, x, y):\n",
    "  if root == None:\n",
    "    return\n",
    "  if x<= root.elem <=y or y<=root.elem<=x:\n",
    "    return root.elem\n",
    "  if root.elem > y:\n",
    "    return LCA(root.left, x, y)\n",
    "  else:\n",
    "    return LCA(root.right, x, y)\n",
    "  \n",
    "#DRIVER CODE\n",
    "root = BTNode(15)\n",
    "root.left = BTNode(10)\n",
    "root.left.left = BTNode(8)\n",
    "\n",
    "n25 = BTNode(25)\n",
    "n12 = BTNode(12)\n",
    "n20 = BTNode(20)\n",
    "n30 = BTNode(30)\n",
    "\n",
    "n6 = BTNode(6)\n",
    "n9 = BTNode(9)\n",
    "n18 = BTNode(18)\n",
    "n22 = BTNode(22)\n",
    "\n",
    "root.right = n25\n",
    "root.left.right = n12\n",
    "root.left.left.left = n6\n",
    "root.left.left.right = n9\n",
    "n25.left = n20\n",
    "n25.right = n30\n",
    "n20.left = n18\n",
    "n20.right = n22\n",
    "\n",
    "print(LCA(root,6,12))\n",
    "print(LCA(root,20,6))\n",
    "print(LCA(root,18,22))\n",
    "print(LCA(root,20,25))\n",
    "print(LCA(root,10,12))\n"
   ]
  },
  {
   "cell_type": "markdown",
   "metadata": {
    "id": "c-TBf3m0PrtK"
   },
   "source": [
    "Task 2"
   ]
  },
  {
   "cell_type": "code",
   "execution_count": 12,
   "metadata": {
    "id": "i6l-v7k1eE9A"
   },
   "outputs": [
    {
     "name": "stdout",
     "output_type": "stream",
     "text": [
      "[30, 10, 15]\n",
      "No Path Found\n"
     ]
    }
   ],
   "source": [
    "def find_path(root, key):\n",
    "    if root == None:\n",
    "      return \"No Path Found\"\n",
    "    if root.elem == key:\n",
    "      return [root.elem]\n",
    "    if root.elem > key :\n",
    "      path = find_path(root.left,key)\n",
    "    else:\n",
    "      path = find_path(root.right,key)\n",
    "    if path == \"No Path Found\":\n",
    "      return path\n",
    "    return [root.elem]+path\n",
    "\n",
    "#DRIVER CODE\n",
    "root = BTNode(30)\n",
    "n1=BTNode(10)\n",
    "n2=BTNode(40)\n",
    "n3=BTNode(3)\n",
    "n4=BTNode(15)\n",
    "n5=BTNode(35)\n",
    "n6=BTNode(55)\n",
    "root.left = n1\n",
    "root.right= n2\n",
    "n1.left=n3\n",
    "n1.right=n4\n",
    "n2.left=n5\n",
    "n2.right=n6\n",
    "print(find_path(root,15))\n",
    "#This should print [30,10,15]\n",
    "\n",
    "print(find_path(root,50))\n",
    "#This should print No Path Found"
   ]
  },
  {
   "cell_type": "markdown",
   "metadata": {
    "id": "7r3lH3aWPz2d"
   },
   "source": [
    "Task 3"
   ]
  },
  {
   "cell_type": "code",
   "execution_count": 13,
   "metadata": {
    "id": "5eT12zYb8zm7"
   },
   "outputs": [
    {
     "name": "stdout",
     "output_type": "stream",
     "text": [
      "108\n"
     ]
    }
   ],
   "source": [
    "def sum_of_leaves(root, sum):\n",
    "  if root == None:\n",
    "    return 0\n",
    "  if root.left == None and root.right == None:\n",
    "    return root.elem\n",
    "  return sum + sum_of_leaves(root.left,sum) + sum_of_leaves(root.right,sum)\n",
    "#Driver COde\n",
    "root = BTNode(30)\n",
    "n1 = BTNode(10)\n",
    "n2 = BTNode(40)\n",
    "n3 = BTNode(3)\n",
    "n4 = BTNode(15)\n",
    "n5 = BTNode(35)\n",
    "n6 = BTNode(55)\n",
    "n7 = BTNode(2)\n",
    "n8 = BTNode(36)\n",
    "root.left = n1\n",
    "root.right = n2\n",
    "n1.left = n3\n",
    "n1.right = n4\n",
    "n2.left = n5\n",
    "n2.right = n6\n",
    "n3.left=n7\n",
    "n5.right=n8\n",
    "print(sum_of_leaves(root, 0))"
   ]
  },
  {
   "cell_type": "markdown",
   "metadata": {
    "id": "5KeA-BoC3uOo"
   },
   "source": [
    "Task 4"
   ]
  },
  {
   "cell_type": "code",
   "execution_count": 14,
   "metadata": {
    "id": "zFwP64v4Pu6d"
   },
   "outputs": [
    {
     "name": "stdout",
     "output_type": "stream",
     "text": [
      "---------------------Test#1---------------------\n",
      "Expected Output: 64\n",
      "You output     : 64\n",
      "---------------------Test#2---------------------\n",
      "Expected Output: 80\n",
      "You output     : 80\n"
     ]
    }
   ],
   "source": [
    "def mirror_sum(root):\n",
    "  def helper(root_l,root_r):\n",
    "    if root_l == None or root_r == None:\n",
    "      return 0\n",
    "    current_sum = root_l.elem+root_r.elem\n",
    "    mew = helper(root_l.left,root_r.right)\n",
    "    grrr = helper(root_l.right,root_r.left)\n",
    "    return current_sum + mew + grrr\n",
    "  if root == None:\n",
    "    return 0\n",
    "  return helper(root.left,root.right)\n",
    "\n",
    "#DRIVER CODE\n",
    "\n",
    "print(\"---------------------Test#1---------------------\")\n",
    "#Example Tree 1\n",
    "root = BTNode(10)\n",
    "n1 = BTNode(6)\n",
    "n2 = BTNode(15)\n",
    "n3 = BTNode(3)\n",
    "n4 = BTNode(8)\n",
    "n5 = BTNode(12)\n",
    "n6 = BTNode(20)\n",
    "\n",
    "root.left = n1\n",
    "root.right = n2\n",
    "\n",
    "n1.left = n3\n",
    "n1.right = n4\n",
    "\n",
    "n2.left = n5\n",
    "n2.right = n6\n",
    "print(\"Expected Output: 64\")\n",
    "print(\"You output     :\",mirror_sum(root))\n",
    "print(\"---------------------Test#2---------------------\")\n",
    "\n",
    "#Example Tree 1\n",
    "root = BTNode(20)\n",
    "n1 = BTNode(15)\n",
    "n2 = BTNode(25)\n",
    "n3 = BTNode(10)\n",
    "n4 = BTNode(18)\n",
    "n5 = BTNode(5)\n",
    "n6 = BTNode(30)\n",
    "\n",
    "root.left = n1\n",
    "root.right = n2\n",
    "\n",
    "n1.left = n3\n",
    "n1.right = n4\n",
    "\n",
    "n3.left = n5\n",
    "n2.right = n6\n",
    "print(\"Expected Output: 80\")\n",
    "print(\"You output     :\",mirror_sum(root))"
   ]
  },
  {
   "cell_type": "markdown",
   "metadata": {},
   "source": [
    "Task-05 :\n",
    "Determining Successor\n",
    "\n"
   ]
  },
  {
   "cell_type": "code",
   "execution_count": null,
   "metadata": {},
   "outputs": [
    {
     "ename": "SyntaxError",
     "evalue": "invalid syntax (36261106.py, line 23)",
     "output_type": "error",
     "traceback": [
      "\u001b[1;36m  Cell \u001b[1;32mIn[15], line 23\u001b[1;36m\u001b[0m\n\u001b[1;33m    curr = curr.\u001b[0m\n\u001b[1;37m                ^\u001b[0m\n\u001b[1;31mSyntaxError\u001b[0m\u001b[1;31m:\u001b[0m invalid syntax\n"
     ]
    }
   ],
   "source": [
    "#If we reach null, then the given target does not exist, we return null\n",
    "#If current node matches the target and right child is not empty, then successor is leftmost node in right subtree.\n",
    "#If current node is greater , then it is a potential successor, we mark it as successor and proceed to left\n",
    "#If current node is smaller or equal to the target, we proceed to right\n",
    "\n",
    "def leftmost(root):\n",
    "    if root == None:\n",
    "        return \n",
    "    if root.left == None:\n",
    "        return root\n",
    "    return leftmost(root.left)\n",
    "\n",
    "def successor(root,target):\n",
    "    if root == None:\n",
    "        return\n",
    "    if root.elem == target and root.right:\n",
    "        return leftmost(root.right)\n",
    "    if root.elem > target :\n",
    "        return helper(root, target, root.elem)\n",
    "    else:\n",
    "        return helper(root.right,target)\n",
    "    \n",
    "def helper(root, target, succ = 0):\n",
    "    if root == None:\n",
    "        return succ\n",
    "    if root.elem == target and root.right:\n",
    "        \n",
    "\n",
    "\n",
    "\n",
    "if __name__ == '__main__':  \n",
    "    # Construct a BST\n",
    "    #            20\n",
    "    #          /    \\\n",
    "    #         8      22\n",
    "    #       /   \\     \\\n",
    "    #      4    12     26\n",
    "    #          /  \\\n",
    "    #         10   14\n",
    "    root = BTNode(20)\n",
    "    root.left = BTNode(8)\n",
    "    root.right = BTNode(22)\n",
    "    root.left.left = BTNode(4)\n",
    "    root.left.right = BTNode(12)\n",
    "    root.left.right.left = BTNode(10)\n",
    "    root.left.right.right = BTNode(14)"
   ]
  },
  {
   "cell_type": "markdown",
   "metadata": {},
   "source": [
    "Task 06: Specific Mirror Multiplication"
   ]
  },
  {
   "cell_type": "code",
   "execution_count": null,
   "metadata": {},
   "outputs": [
    {
     "name": "stdout",
     "output_type": "stream",
     "text": [
      "No Mirror Found\n",
      "230\n",
      "230\n",
      "114\n",
      "No Mirror Found\n",
      "114\n",
      "92\n",
      "No Mirror Found\n",
      "92\n",
      "No Mirror Found\n",
      "No Mirror Found\n"
     ]
    }
   ],
   "source": [
    "def helper(root_l, root_r, target):\n",
    "\n",
    "    if root_l == None or root_r == None:\n",
    "        return \"No Mirror Found\"\n",
    "    \n",
    "    if root_l.elem == target or root_r.elem == target:\n",
    "        return root_l.elem * root_r.elem\n",
    "    \n",
    "    external_check = helper(root_l.left, root_r.right, target)\n",
    "\n",
    "    if external_check != \"No Mirror Found\":\n",
    "        return external_check\n",
    "    \n",
    "    return helper(root_l.right, root_r.left, target)\n",
    "\n",
    "def mirror_prod(root, target):\n",
    "\n",
    "    if root == None:\n",
    "        return \"No Mirror Found\"\n",
    "    \n",
    "    return helper(root.left, root.right, target)\n",
    "\n",
    "r\"\"\"\n",
    "Constructed BST:\n",
    "                  15\n",
    "               /      \\\n",
    "            10          23\n",
    "          /           /    \\\n",
    "         3           19     38\n",
    "       /   \\                 \\\n",
    "      2     4                 46\n",
    "           /                  /\n",
    "          5                 40\n",
    "\"\"\"\n",
    "root = BTNode.tree_construction([None,15,10,23,3,None,19,38,2,4,None,None,None,None,None,46,None,None,5,None,None,None,None,None,None,None,None,None,None,None,40,None])\n",
    "print(mirror_prod(root, 15))\n",
    "print(mirror_prod(root, 10))\n",
    "print(mirror_prod(root, 23))\n",
    "print(mirror_prod(root, 3))\n",
    "print(mirror_prod(root, 19))\n",
    "print(mirror_prod(root, 38))\n",
    "print(mirror_prod(root, 2))\n",
    "print(mirror_prod(root, 4))\n",
    "print(mirror_prod(root, 46))\n",
    "print(mirror_prod(root, 5))\n",
    "print(mirror_prod(root, 40))\n"
   ]
  },
  {
   "cell_type": "markdown",
   "metadata": {},
   "source": [
    " Task 06: Given a Binary search tree, your task is to complete the function which will return the\n",
    " Kth largest element without doing any modification in the Binary Search Tree.\n"
   ]
  },
  {
   "cell_type": "code",
   "execution_count": null,
   "metadata": {},
   "outputs": [
    {
     "name": "stdout",
     "output_type": "stream",
     "text": [
      "None\n"
     ]
    }
   ],
   "source": [
    "def kth_largest_elem(root,k):\n",
    "    def result(root,k):\n",
    "        if root == None:\n",
    "            return\n",
    "        if k == 1:\n",
    "            return root.elem\n",
    "        result(root.right,k-1)\n",
    "        result(root.left,k-1)\n",
    "    if root.right == None:\n",
    "        return result(root,k)\n",
    "    kth_largest_elem(root.right,k)\n",
    "\n",
    "r'''\n",
    "Input: \n",
    "  4\n",
    " / \\\n",
    "2   9\n",
    "'''\n",
    "root = BTNode.tree_construction([None,4,2,9])\n",
    "print(kth_largest_elem(root,2))"
   ]
  },
  {
   "cell_type": "code",
   "execution_count": 20,
   "metadata": {},
   "outputs": [
    {
     "name": "stdout",
     "output_type": "stream",
     "text": [
      "46\n"
     ]
    }
   ],
   "source": [
    "def kth_largest_elem(root, k):\n",
    "    # Global variable to keep track of the number of nodes visited\n",
    "    # and to store the result\n",
    "    result = {\"count\": 0, \"value\": None}\n",
    "    \n",
    "    # Helper function to perform reverse in-order traversal\n",
    "    def reverse_inorder(node):\n",
    "        # Base case: If node is None or we've already found the kth element\n",
    "        if node is None or result[\"count\"] >= k:\n",
    "            return\n",
    "        \n",
    "        # First visit right subtree (larger elements)\n",
    "        reverse_inorder(node.right)\n",
    "        \n",
    "        # Process current node\n",
    "        result[\"count\"] += 1\n",
    "        if result[\"count\"] == k:\n",
    "            result[\"value\"] = node.elem\n",
    "            return\n",
    "        \n",
    "        # Then visit left subtree (smaller elements)\n",
    "        reverse_inorder(node.left)\n",
    "    \n",
    "    # Start the traversal\n",
    "    reverse_inorder(root)\n",
    "    \n",
    "    return result[\"value\"]\n",
    "root = BTNode.tree_construction([None,15,10,23,3,None,19,38,2,4,None,None,None,None,None,46,None,None,5,None,None,None,None,None,None,None,None,None,None,None,40,None])\n",
    "r\"\"\"\n",
    "Constructed BST:\n",
    "                  15\n",
    "               /      \\\n",
    "            10          23\n",
    "          /           /    \\\n",
    "         3           19     38\n",
    "       /   \\                 \\\n",
    "      2     4                 46\n",
    "           /                  /\n",
    "          5                 40\n",
    "\"\"\"\n",
    "print(kth_largest_elem(root,1))"
   ]
  },
  {
   "attachments": {
    "image.png": {
     "image/png": "[encoded data removed]"
    }
   },
   "cell_type": "markdown",
   "metadata": {},
   "source": [
    "![image.png](attachment:image.png)"
   ]
  },
  {
   "cell_type": "code",
   "execution_count": 21,
   "metadata": {},
   "outputs": [
    {
     "name": "stdout",
     "output_type": "stream",
     "text": [
      "2\n"
     ]
    }
   ],
   "source": [
    "def kth_large(root,k):\n",
    "    result = {'count': 0, 'val': 0}\n",
    "    def helper(root):\n",
    "        if root == None or result['count'] >= k:\n",
    "            return\n",
    "        helper(root.right)\n",
    "        result['count'] += 1\n",
    "        if result['count'] == k:\n",
    "            result['val'] = root.elem\n",
    "        helper(root.left)\n",
    "    helper(root)\n",
    "    return result['val']\n",
    "root = BTNode.tree_construction([None,4,2,9])\n",
    "print(kth_large(root,3))"
   ]
  }
 ],
 "metadata": {
  "colab": {
   "provenance": [
    {
     "file_id": "1fz-8XVRUO217Jk0i6byqO6CT1k4vtN0y",
     "timestamp": 1701548920850
    }
   ]
  },
  "kernelspec": {
   "display_name": "Python 3",
   "name": "python3"
  },
  "language_info": {
   "codemirror_mode": {
    "name": "ipython",
    "version": 3
   },
   "file_extension": ".py",
   "mimetype": "text/x-python",
   "name": "python",
   "nbconvert_exporter": "python",
   "pygments_lexer": "ipython3",
   "version": "3.12.3"
  }
 },
 "nbformat": 4,
 "nbformat_minor": 0
}
