{
 "cells": [
  {
   "cell_type": "code",
   "execution_count": 2,
   "id": "9b43ac0f",
   "metadata": {},
   "outputs": [],
   "source": [
    "import numpy as np"
   ]
  },
  {
   "cell_type": "code",
   "execution_count": 3,
   "id": "6b90eb67",
   "metadata": {},
   "outputs": [],
   "source": [
    "class Queue:\n",
    "    def __init__(self):\n",
    "        self.items = []\n",
    "\n",
    "    def is_empty(self):\n",
    "        return len(self.items) == 0\n",
    "\n",
    "    def enqueue(self, item):\n",
    "        self.items.append(item)  # Add to the rear\n",
    "\n",
    "    def dequeue(self):\n",
    "        if self.is_empty():\n",
    "            raise IndexError(\"Queue is empty\")\n",
    "        return self.items.pop(0)  # Remove from the front\n",
    "\n",
    "    def peek(self):\n",
    "        if self.is_empty():\n",
    "            raise IndexError(\"Queue is empty\")\n",
    "        return self.items[0]\n",
    "\n",
    "    def size(self):\n",
    "        return len(self.items)\n",
    "\n",
    "    def __str__(self):\n",
    "        return \"Queue: \" + str(self.items)"
   ]
  },
  {
   "cell_type": "code",
   "execution_count": 4,
   "id": "ceb576c8",
   "metadata": {},
   "outputs": [],
   "source": [
    "class Stack:\n",
    "    def __init__(self):\n",
    "        self.items = []\n",
    "\n",
    "    def is_empty(self):\n",
    "        return len(self.items) == 0\n",
    "\n",
    "    def push(self, item):\n",
    "        self.items.append(item)  # Add to the top\n",
    "\n",
    "    def pop(self):\n",
    "        if self.is_empty():\n",
    "            raise IndexError(\"Stack is empty\")\n",
    "        return self.items.pop()  # Remove from the top\n",
    "\n",
    "    def peek(self):\n",
    "        if self.is_empty():\n",
    "            raise IndexError(\"Stack is empty\")\n",
    "        return self.items[-1]\n",
    "\n",
    "    def size(self):\n",
    "        return len(self.items)\n",
    "\n",
    "    def __str__(self):\n",
    "        return \"Stack (top -> bottom): \" + str(list(reversed(self.items)))"
   ]
  },
  {
   "cell_type": "code",
   "execution_count": 13,
   "id": "335e31d5",
   "metadata": {},
   "outputs": [],
   "source": [
    "class Node:\n",
    "    def __init__(self,destination,next):\n",
    "        self.destination = destination\n",
    "        self.next = next"
   ]
  },
  {
   "cell_type": "code",
   "execution_count": 27,
   "id": "06816f93",
   "metadata": {},
   "outputs": [],
   "source": [
    "nodes = np.array([1,2,3,4,5,6,7,8])\n",
    "n = len(nodes)\n",
    "adj_list = np.array([None]*(n+1))"
   ]
  },
  {
   "cell_type": "code",
   "execution_count": 28,
   "id": "038594c3",
   "metadata": {},
   "outputs": [
    {
     "name": "stdout",
     "output_type": "stream",
     "text": [
      "1:  2->4->None\n",
      "2:  3->5->None\n",
      "3:  4->6->8->None\n",
      "4:  None\n",
      "5:  None\n",
      "6:  7->None\n",
      "7:  None\n",
      "8:  None\n"
     ]
    }
   ],
   "source": [
    "def add_destination_to_list(s,d):\n",
    "    n = Node(d, None)\n",
    "    if adj_list[s] == None:\n",
    "        adj_list[s] = n\n",
    "    else:\n",
    "        temp = adj_list[s]\n",
    "        while temp.next != None:\n",
    "            temp = temp.next\n",
    "        temp.next = n\n",
    "        \n",
    "add_destination_to_list(1, 2)\n",
    "add_destination_to_list(1, 4)\n",
    "add_destination_to_list(2, 3)\n",
    "add_destination_to_list(2, 5)\n",
    "add_destination_to_list(3, 4)\n",
    "add_destination_to_list(3, 6)\n",
    "add_destination_to_list(3, 8)\n",
    "add_destination_to_list(6, 7)\n",
    "\n",
    "# Print the adjacency list\n",
    "for i in range(1, len(adj_list)):\n",
    "    temp = adj_list[i]\n",
    "    print(f\"{i}: \", end=\" \")\n",
    "    while temp != None:\n",
    "        print(temp.destination, end=\"->\")\n",
    "        temp = temp.next\n",
    "    print(\"None\")"
   ]
  },
  {
   "cell_type": "code",
   "execution_count": 5,
   "id": "2a24f44e",
   "metadata": {},
   "outputs": [],
   "source": [
    "#For unweighted,undirected graph\n",
    "n=8\n",
    "adjMat = np.zeros((n+1,n+1), dtype = int)\n",
    "def addEdgeToMatrix(source,destination):\n",
    "    adjMat[source][destination] = 1\n",
    "    adjMat[destination][source] = 1"
   ]
  },
  {
   "cell_type": "code",
   "execution_count": null,
   "id": "b24baca3",
   "metadata": {},
   "outputs": [],
   "source": []
  },
  {
   "cell_type": "code",
   "execution_count": null,
   "id": "b4ac1da6",
   "metadata": {},
   "outputs": [],
   "source": [
    "def bfs(adjMat,source):\n",
    "    visited = np.zeros(n+1, dtype = int)\n",
    "    q = Queue()\n",
    "    visited[source] = 1\n",
    "    q.enqueue(source)\n",
    "    while not q.is_empty():\n",
    "        output = q.dequeue()\n",
    "        print(output, end = \" \")\n",
    "        for i in range(len(adjMat[output])):\n",
    "            if adjMat[output][i] == 1 and visited[i] == 0:\n",
    "                visited[i] = 1\n",
    "                q.enqueue(i)"
   ]
  },
  {
   "cell_type": "code",
   "execution_count": null,
   "id": "1e7d2da0",
   "metadata": {},
   "outputs": [],
   "source": [
    "def dfs(adjMat,source):\n",
    "    visited = np.zeros(n+1, dtype=int)\n",
    "    stack = Stack()\n",
    "    visited[source] = 1\n",
    "    stack.push(source)\n",
    "    while not stack.is_empty():\n",
    "        output = stack.pop()\n",
    "        print(output, end = ' ')\n",
    "        for i in range(len(adjMat[output])):\n",
    "            if adjMat[output][i] == 1 and visited[i] == 0:\n",
    "                visited[i] = 1\n",
    "                stack.push(i)"
   ]
  },
  {
   "cell_type": "code",
   "execution_count": 11,
   "id": "74e7beef",
   "metadata": {},
   "outputs": [
    {
     "name": "stdout",
     "output_type": "stream",
     "text": [
      "3 2 4 6 8 1 5 7 "
     ]
    }
   ],
   "source": [
    "#Driver Code\n",
    "addEdgeToMatrix(1,2)\n",
    "addEdgeToMatrix(1,4)\n",
    "addEdgeToMatrix(2,3)\n",
    "addEdgeToMatrix(2,5)\n",
    "addEdgeToMatrix(3,4)\n",
    "addEdgeToMatrix(3,6)\n",
    "addEdgeToMatrix(3,8)\n",
    "addEdgeToMatrix(6,7)\n",
    "bfs(adjMat,3)"
   ]
  },
  {
   "cell_type": "markdown",
   "id": "92ff09d7",
   "metadata": {},
   "source": [
    "Task 1:\n",
    "Given an undirected, unweighted graph as input, write a function to find the vertex with maximum degree and return the degree of that vertex. (with linked list) \n"
   ]
  },
  {
   "cell_type": "code",
   "execution_count": 31,
   "id": "a024b9bb",
   "metadata": {},
   "outputs": [
    {
     "name": "stdout",
     "output_type": "stream",
     "text": [
      "1 : 2\n"
     ]
    }
   ],
   "source": [
    "def max_degree_vertex(adj_list):\n",
    "    max_degree = -1\n",
    "    max_vertex = -1\n",
    "    for i in range(1, len(adj_list)):\n",
    "        count = 0\n",
    "        temp = adj_list[i]\n",
    "        while temp != None:\n",
    "            count += 1\n",
    "            temp = temp.next\n",
    "        if count > max_degree :\n",
    "            max_degree = count\n",
    "            max_vertex = i\n",
    "    return f'{max_vertex} : {max_degree}'\n",
    "\n",
    "nodes = np.array([1,2,3])\n",
    "n = len(nodes)\n",
    "adj_list = np.array([None]*(n+1))\n",
    "add_destination_to_list(1, 2)\n",
    "add_destination_to_list(1, 3)\n",
    "add_destination_to_list(2, 1)\n",
    "add_destination_to_list(3, 2)\n",
    "print(max_degree_vertex(adj_list))"
   ]
  },
  {
   "cell_type": "markdown",
   "id": "46768659",
   "metadata": {},
   "source": [
    "Task 2:\n",
    "Given an undirected, edge-weighted graph as input, write a function to find the vertex whose sum of edge weights is maximum. (with linked list)\n",
    "\n"
   ]
  },
  {
   "cell_type": "code",
   "execution_count": null,
   "id": "633d0308",
   "metadata": {},
   "outputs": [],
   "source": [
    "class NodeW:\n",
    "    def __init__(self,destination,weight,next):\n",
    "        self.destination = destination\n",
    "        self.weight = weight\n",
    "        self.next = next"
   ]
  },
  {
   "cell_type": "code",
   "execution_count": 35,
   "id": "74471435",
   "metadata": {},
   "outputs": [
    {
     "name": "stdout",
     "output_type": "stream",
     "text": [
      "2 : 500\n"
     ]
    }
   ],
   "source": [
    "\n",
    "def add_destination_to_list_weighted(s,d,w):\n",
    "    n = NodeW(d, w, None)\n",
    "    if adj_list[s] == None:\n",
    "        adj_list[s] = n\n",
    "    else:\n",
    "        temp = adj_list[s]\n",
    "        while temp.next != None:\n",
    "            temp = temp.next\n",
    "        temp.next = n\n",
    "\n",
    "def max_degree_weighted_vertex(adj_list):\n",
    "    max_weight = 0\n",
    "    max_vertex = 0\n",
    "    for i in range(len(adj_list)):\n",
    "        count = 0\n",
    "        temp = adj_list[i]\n",
    "        while temp != None:\n",
    "            count += temp.weight\n",
    "            temp = temp.next\n",
    "        if max_weight < count:\n",
    "            max_weight = count\n",
    "            max_vertex = i\n",
    "    return f'{max_vertex} : {max_weight}'\n",
    "    \n",
    "nodes = np.array([1,2,3])\n",
    "n = len(nodes)\n",
    "adj_list = np.array([None]*(n+1))\n",
    "add_destination_to_list_weighted(1,2,15)\n",
    "add_destination_to_list_weighted(1,3,2)\n",
    "add_destination_to_list_weighted(2,3,500)\n",
    "add_destination_to_list_weighted(3,1,45)\n",
    "add_destination_to_list_weighted(3,2,25)\n",
    "print(max_degree_weighted_vertex(adj_list))"
   ]
  }
 ],
 "metadata": {
  "kernelspec": {
   "display_name": "Python 3",
   "language": "python",
   "name": "python3"
  },
  "language_info": {
   "codemirror_mode": {
    "name": "ipython",
    "version": 3
   },
   "file_extension": ".py",
   "mimetype": "text/x-python",
   "name": "python",
   "nbconvert_exporter": "python",
   "pygments_lexer": "ipython3",
   "version": "3.12.3"
  }
 },
 "nbformat": 4,
 "nbformat_minor": 5
}
